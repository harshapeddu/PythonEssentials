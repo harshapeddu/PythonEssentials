{
 "cells": [
  {
   "cell_type": "code",
   "execution_count": 28,
   "metadata": {},
   "outputs": [
    {
     "name": "stdout",
     "output_type": "stream",
     "text": [
      "Enter the matrix size : 5\n",
      "X X X X X \n",
      "X X X X X \n",
      "X X X X X \n",
      "X X X X X \n",
      "X X X X X \n"
     ]
    }
   ],
   "source": [
    "# Program to display simple n * n matrix)\n",
    "n = int(input('Enter the matrix size : '))\n",
    "for i in range(1, n+1):\n",
    "    for j in range(1,n+1):\n",
    "        print('X',end=' ')\n",
    "    print()\n"
   ]
  },
  {
   "cell_type": "code",
   "execution_count": 27,
   "metadata": {},
   "outputs": [
    {
     "name": "stdout",
     "output_type": "stream",
     "text": [
      "Enter variable for matrix : 5\n",
      "1   2   3   4   5   \n",
      "\n",
      "2   4   6   8   10   \n",
      "\n",
      "3   6   9   12   15   \n",
      "\n",
      "4   8   12   16   20   \n",
      "\n",
      "5   10   15   20   25   \n",
      "\n"
     ]
    }
   ],
   "source": [
    "# Program to display simple multiplication matrix:\n",
    "n = int(input('Enter variable for matrix : '))\n",
    "for i in range(1,n+1):\n",
    "    for j in range(1,n+1):\n",
    "        print(i*j,end='   ')\n",
    "    print()\n",
    "    print()\n",
    "    "
   ]
  },
  {
   "cell_type": "code",
   "execution_count": 26,
   "metadata": {},
   "outputs": [
    {
     "name": "stdout",
     "output_type": "stream",
     "text": [
      "Enter the number : 4\n",
      "X \n",
      "X X \n",
      "X X X \n",
      "X X X X \n"
     ]
    }
   ],
   "source": [
    "n = int(input('Enter the number : '))\n",
    "i = 1\n",
    "while i <= n:\n",
    "    for j in range(1,i+1):\n",
    "        print('X',end=' ')\n",
    "    print()\n",
    "    i = i + 1\n",
    "    "
   ]
  },
  {
   "cell_type": "code",
   "execution_count": null,
   "metadata": {},
   "outputs": [],
   "source": []
  }
 ],
 "metadata": {
  "kernelspec": {
   "display_name": "Python 3",
   "language": "python",
   "name": "python3"
  },
  "language_info": {
   "codemirror_mode": {
    "name": "ipython",
    "version": 3
   },
   "file_extension": ".py",
   "mimetype": "text/x-python",
   "name": "python",
   "nbconvert_exporter": "python",
   "pygments_lexer": "ipython3",
   "version": "3.6.5"
  }
 },
 "nbformat": 4,
 "nbformat_minor": 2
}
