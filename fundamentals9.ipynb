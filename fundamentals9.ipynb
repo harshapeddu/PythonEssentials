{
 "cells": [
  {
   "cell_type": "code",
   "execution_count": null,
   "metadata": {},
   "outputs": [],
   "source": [
    "#Function to find biggest number given 2 arguments\n",
    "def max(num1,num2):\n",
    "    '''This function is used to find the bigger number\n",
    "        num1:formal int parameter 1\n",
    "        num2:formal int parameter 2\n",
    "        '''\n",
    "    if num1 > num2:\n",
    "        result = num1\n",
    "    else:\n",
    "        result = num2\n",
    "    return result    \n"
   ]
  },
  {
   "cell_type": "code",
   "execution_count": 10,
   "metadata": {},
   "outputs": [
    {
     "name": "stdout",
     "output_type": "stream",
     "text": [
      "Enter the first number :34\n",
      "Enter the second number :56\n",
      "The bigger number is :  56\n"
     ]
    }
   ],
   "source": [
    "x = int(input('Enter the first number :'))\n",
    "y = int(input('Enter the second number :'))\n",
    "z = max(x,y)\n",
    "print('The bigger number is : ', z)"
   ]
  },
  {
   "cell_type": "code",
   "execution_count": 5,
   "metadata": {},
   "outputs": [],
   "source": [
    "#Function to find given number is Even or Odd\n",
    "'''This function is  used to find the given number is\n",
    "        Even or odd\n",
    "        num : Formal int parameter\n",
    "        '''\n",
    "def isEven(num):\n",
    "    if num%2 == 0:\n",
    "        return True\n",
    "    else:\n",
    "        return False\n",
    "        \n",
    "    "
   ]
  },
  {
   "cell_type": "code",
   "execution_count": 7,
   "metadata": {},
   "outputs": [
    {
     "name": "stdout",
     "output_type": "stream",
     "text": [
      "Enter the value : 31\n",
      "ODD Number\n"
     ]
    }
   ],
   "source": [
    "n = int(input('Enter the value : '))\n",
    "if isEven(n):\n",
    "    print('EVEN Number')\n",
    "else:\n",
    "    print('ODD Number')"
   ]
  },
  {
   "cell_type": "code",
   "execution_count": null,
   "metadata": {},
   "outputs": [],
   "source": []
  }
 ],
 "metadata": {
  "kernelspec": {
   "display_name": "Python 3",
   "language": "python",
   "name": "python3"
  },
  "language_info": {
   "codemirror_mode": {
    "name": "ipython",
    "version": 3
   },
   "file_extension": ".py",
   "mimetype": "text/x-python",
   "name": "python",
   "nbconvert_exporter": "python",
   "pygments_lexer": "ipython3",
   "version": "3.6.5"
  }
 },
 "nbformat": 4,
 "nbformat_minor": 2
}
