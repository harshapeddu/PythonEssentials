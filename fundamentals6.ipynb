{
 "cells": [
  {
   "cell_type": "code",
   "execution_count": 5,
   "metadata": {},
   "outputs": [
    {
     "name": "stdout",
     "output_type": "stream",
     "text": [
      "enter the weight in KG: 120\n",
      "enter the height in feet: 5.8\n",
      "your bmi is :  38.4\n",
      "Obese\n"
     ]
    }
   ],
   "source": [
    "# this program is to calculate the BMI for given weight in kgs and height in mtrs\n",
    "W = int(input('enter the weight in KG: '))\n",
    "H = float(input('enter the height in feet: '))\n",
    "#convert feet into mtrs\n",
    "HM = float(0.3048*H)\n",
    "#caliculating BMI\n",
    "BMI = float(W/(HM**2))\n",
    "print('your bmi is : ', round(BMI,2))\n",
    "if BMI <= 18.5:\n",
    "    print('Under Weight')\n",
    "elif BMI > 18.5 and BMI <= 24.9:\n",
    "    print('Healthy Weight')\n",
    "elif BMI >=25 and BMI <= 30:\n",
    "    print('Over Weight')\n",
    "else:\n",
    "    print('Obese')"
   ]
  },
  {
   "cell_type": "code",
   "execution_count": 19,
   "metadata": {},
   "outputs": [
    {
     "name": "stdout",
     "output_type": "stream",
     "text": [
      "Enter the number : 7\n",
      "Prime Number\n"
     ]
    }
   ],
   "source": [
    "# Program to find the given number is Prime\n",
    "a = int(input('Enter the number : '))                     #input value to find this number is Prime\n",
    "i = 1                                                     #initiation variable and incrimentor\n",
    "f = 0                                                     #factor count\n",
    "while i <= a:                                             #While loop Start\n",
    "    if a%i == 0:\n",
    "        f += 1\n",
    "    i += 1\n",
    "if f == 2:\n",
    "    print('Prime Number')\n",
    "else:\n",
    "    print('Not Prime Number')\n",
    "    print('Factors : ', f)\n",
    "\n"
   ]
  },
  {
   "cell_type": "code",
   "execution_count": 1,
   "metadata": {},
   "outputs": [
    {
     "name": "stdout",
     "output_type": "stream",
     "text": [
      "2 3 5 7 11 13 17 19 23 29 31 37 41 43 47 53 59 61 67 71 73 79 83 89 97 "
     ]
    }
   ],
   "source": [
    "# Prime numbers upto 100 :\n",
    "num = 1\n",
    "while num <= 100:\n",
    "    i=1\n",
    "    f = 0\n",
    "    while i <= num:\n",
    "        if num%i == 0:\n",
    "            f += 1\n",
    "        i += 1\n",
    "    if f == 2:\n",
    "        print(num,end=' ')\n",
    "    num += 1    \n",
    "    "
   ]
  },
  {
   "cell_type": "code",
   "execution_count": 19,
   "metadata": {},
   "outputs": [
    {
     "name": "stdout",
     "output_type": "stream",
     "text": [
      "Enter the number : 548834\n",
      "Armstrong number\n"
     ]
    }
   ],
   "source": [
    "# ArmStrong number :\n",
    "\n",
    "num = int(input('Enter the number : '))\n",
    "num1 = num\n",
    "s = 0\n",
    "a = len(str(num))\n",
    "while num != 0:\n",
    "    r = num%10\n",
    "    s += (r**a)\n",
    "    num = num//10\n",
    "if s == num1:\n",
    "    print('Armstrong number')\n",
    "else:\n",
    "    print('Not Armstrong number')"
   ]
  },
  {
   "cell_type": "code",
   "execution_count": 15,
   "metadata": {},
   "outputs": [
    {
     "name": "stdout",
     "output_type": "stream",
     "text": [
      "Enter the higher range number :999999\n",
      "153 370 371 407 1634 8208 9474 54748 92727 93084 548834 "
     ]
    }
   ],
   "source": [
    "#Armstrong number upto n\n",
    "\n",
    "n = int(input('Enter the higher range number :'))\n",
    "\n",
    "for i in range(10,n+1):\n",
    "    a = len(str(i))                 #To determine the length to multiply the reminder a, n times\n",
    "    b= i                            #To save the value in another variable b\n",
    "    s = 0                           # Variable to store the sum\n",
    "    while i!= 0:\n",
    "        r = i%10\n",
    "        s = s+(r**a)\n",
    "        i = i//10\n",
    "    if s == b:\n",
    "        print(b,end=' ')\n"
   ]
  },
  {
   "cell_type": "code",
   "execution_count": 2,
   "metadata": {},
   "outputs": [
    {
     "name": "stdout",
     "output_type": "stream",
     "text": [
      "length of the word is : 6\n",
      "The word is                 :  harsha\n",
      "The word in reverse order is:  ahsrah\n"
     ]
    }
   ],
   "source": [
    "w = 'harsha'\n",
    "print('length of the word is :',len(w))\n",
    "a = w[0]+w[1]+w[2]+w[3]+w[4]+w[5]\n",
    "b = w[5]+w[4]+w[3]+w[2]+w[1]+w[0]\n",
    "print('The word is                 : ', a)\n",
    "print('The word in reverse order is: ', b)"
   ]
  },
  {
   "cell_type": "code",
   "execution_count": 2,
   "metadata": {},
   "outputs": [
    {
     "name": "stdout",
     "output_type": "stream",
     "text": [
      "enter a word :madam\n",
      "Reverse string is : madam\n"
     ]
    }
   ],
   "source": [
    "#To print given string in reverse order\n",
    "\n",
    "w = input('enter a word :')\n",
    "L = len(w)\n",
    "R = ''\n",
    "while L > 0:\n",
    "    R = R+w[L-1]\n",
    "    L = L-1\n",
    "print('Reverse string is :',R)\n"
   ]
  },
  {
   "cell_type": "code",
   "execution_count": 55,
   "metadata": {},
   "outputs": [
    {
     "name": "stdout",
     "output_type": "stream",
     "text": [
      "Enter a word :madam\n",
      "Reverse string is : madam\n",
      "The string is PALINDROME string\n"
     ]
    }
   ],
   "source": [
    "# Palindrome string\n",
    "W = input('Enter a word :')\n",
    "L = len(W)\n",
    "R = ''\n",
    "while L > 0:\n",
    "    R = R+W[L-1]\n",
    "    L = L-1\n",
    "print('Reverse string is :',R)\n",
    "\n",
    "if W == R:\n",
    "    print('The string is PALINDROME string')\n",
    "else:\n",
    "    print('The string is NOT PALINDROME string')\n"
   ]
  },
  {
   "cell_type": "code",
   "execution_count": 4,
   "metadata": {},
   "outputs": [
    {
     "name": "stdout",
     "output_type": "stream",
     "text": [
      "Enter the number :567\n",
      "The number in Reverse order is : 765\n"
     ]
    }
   ],
   "source": [
    "#To print given number in reverse order\n",
    "n = int(input('Enter the number :'))\n",
    "s = 0\n",
    "while n > 0:\n",
    "    r = n%10\n",
    "    s = (s*10) + r\n",
    "    n = n//10\n",
    "print('The number in Reverse order is :',s)\n",
    "\n"
   ]
  },
  {
   "cell_type": "code",
   "execution_count": 9,
   "metadata": {},
   "outputs": [
    {
     "name": "stdout",
     "output_type": "stream",
     "text": [
      "Enter the number :12345678987654321\n",
      "The number in Reverse order is : 12345678987654321\n",
      "The number is PALINDROME\n"
     ]
    }
   ],
   "source": [
    "#To print given number in reverse order and to check if its palindrome number or not\n",
    "n = int(input('Enter the number :'))\n",
    "a = n\n",
    "s = 0\n",
    "while n > 0:\n",
    "    r = n%10\n",
    "    s = (s*10) + r\n",
    "    n = n//10\n",
    "print('The number in Reverse order is :',s)\n",
    "\n",
    "if a == s:\n",
    "    print('The number is PALINDROME')\n",
    "else:\n",
    "    print('The number is NOT PALINDROME')"
   ]
  },
  {
   "cell_type": "code",
   "execution_count": null,
   "metadata": {},
   "outputs": [],
   "source": []
  }
 ],
 "metadata": {
  "kernelspec": {
   "display_name": "Python 3",
   "language": "python",
   "name": "python3"
  },
  "language_info": {
   "codemirror_mode": {
    "name": "ipython",
    "version": 3
   },
   "file_extension": ".py",
   "mimetype": "text/x-python",
   "name": "python",
   "nbconvert_exporter": "python",
   "pygments_lexer": "ipython3",
   "version": "3.6.5"
  }
 },
 "nbformat": 4,
 "nbformat_minor": 2
}
